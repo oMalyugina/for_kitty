{
 "cells": [
  {
   "cell_type": "code",
   "execution_count": 1,
   "metadata": {},
   "outputs": [],
   "source": [
    "import os\n",
    "import codecs\n",
    "from random import randint\n",
    "from collections import Counter\n",
    "import matplotlib.pyplot as plt\n",
    "import pandas as pd\n",
    "from PIL import Image, ImageDraw\n",
    "from data_generator import DataGenerator, Label\n",
    "\n",
    "%matplotlib inline"
   ]
  },
  {
   "cell_type": "code",
   "execution_count": 2,
   "metadata": {},
   "outputs": [
    {
     "name": "stdout",
     "output_type": "stream",
     "text": [
      "7481 files from '000000.png' to '007480.png'\n",
      "7481 files from '000000.txt' to '007480.txt'\n"
     ]
    }
   ],
   "source": [
    "# look for images and labels\\\n",
    "# !ls ../../data/images\n",
    "# !ls ../../data/labels/training/label_2/\n",
    "\n",
    "folder_with_images = \"../../data/images/training/image_2/\"\n",
    "images_names = sorted(os.listdir(folder_with_images))\n",
    "print(\"{} files from '{}' to '{}'\".format(len(images_names), images_names[0], images_names[-1]))\n",
    "\n",
    "folder_with_labels = \"../../data/labels/training/label_2/\"\n",
    "labels_names = sorted(os.listdir(folder_with_labels))\n",
    "print(\"{} files from '{}' to '{}'\".format(len(labels_names), labels_names[0], labels_names[-1]))"
   ]
  },
  {
   "cell_type": "markdown",
   "metadata": {},
   "source": [
    "# info about labels\n",
    "\n",
    "values - name - description\n",
    "\n",
    "   1 -   type   -      Describes the type of object: 'Car', 'Van', 'Truck',\n",
    "                     'Pedestrian', 'Person_sitting', 'Cyclist', 'Tram',\n",
    "                     'Misc' or 'DontCare'\n",
    "                     \n",
    "   1  -  truncated -   Float from 0 (non-truncated) to 1 (truncated), where\n",
    "                     truncated refers to the object leaving image boundaries\n",
    "                     \n",
    "   1 -   occluded   -  Integer (0,1,2,3) indicating occlusion state:\n",
    "                     0 = fully visible, 1 = partly occluded\n",
    "                     2 = largely occluded, 3 = unknown\n",
    "                     \n",
    "   1  -  alpha   -     Observation angle of object, ranging [-pi..pi]\n",
    "   \n",
    "   4  -  bbox     -    2D bounding box of object in the image (0-based index):\n",
    "                     contains left, top, right, bottom pixel coordinates\n",
    "                     \n",
    "   3  -  dimensions -  3D object dimensions: height, width, length (in meters)\n",
    "   \n",
    "   3  -  location  -   3D object location x,y,z in camera coordinates (in meters)\n",
    "   \n",
    "   1  -  rotation_y  - Rotation ry around Y-axis in camera coordinates [-pi..pi]\n",
    "   \n",
    "   1  -  score     -   Only for results: Float, indicating confidence in\n",
    "                     detection, needed for p/r curves, higher is better.\n",
    "\n",
    "Questions:\n",
    "1. Why are bbox coordinates float? \n",
    "2. occluded can be -1\n",
    "\n",
    "so this info can be wrong"
   ]
  },
  {
   "cell_type": "markdown",
   "metadata": {},
   "source": [
    "# visualisation"
   ]
  },
  {
   "cell_type": "code",
   "execution_count": 3,
   "metadata": {},
   "outputs": [
    {
     "name": "stdout",
     "output_type": "stream",
     "text": [
      "PNG (1242, 375) RGB\n"
     ]
    },
    {
     "data": {
      "text/plain": [
       "(1242, 375)"
      ]
     },
     "execution_count": 3,
     "metadata": {},
     "output_type": "execute_result"
    }
   ],
   "source": [
    "# look at first image\n",
    "im = Image.open(folder_with_images + images_names[1])\n",
    "print(im.format, im.size, im.mode)\n",
    "im.show()\n",
    "im.size"
   ]
  },
  {
   "cell_type": "code",
   "execution_count": 4,
   "metadata": {},
   "outputs": [
    {
     "name": "stdout",
     "output_type": "stream",
     "text": [
      "Truck 0.00 0 -1.57 599.41 156.40 629.75 189.25 2.85 2.63 12.34 0.47 1.49 69.44 -1.56\n",
      "Car 0.00 0 1.85 387.63 181.54 423.81 203.12 1.67 1.87 3.69 -16.53 2.39 58.49 1.57\n",
      "Cyclist 0.00 3 -1.65 676.60 163.95 688.98 193.93 1.86 0.60 2.02 4.59 1.32 45.84 -1.55\n",
      "DontCare -1 -1 -10 503.89 169.71 590.61 190.13 -1 -1 -1 -1000 -1000 -1000 -10\n",
      "DontCare -1 -1 -10 511.35 174.96 527.81 187.45 -1 -1 -1 -1000 -1000 -1000 -10\n",
      "DontCare -1 -1 -10 532.37 176.35 542.68 185.27 -1 -1 -1 -1000 -1000 -1000 -10\n",
      "DontCare -1 -1 -10 559.62 175.83 575.40 183.15 -1 -1 -1 -1000 -1000 -1000 -10\n",
      "\n"
     ]
    }
   ],
   "source": [
    "# look at first label\n",
    "with codecs.open(folder_with_labels + labels_names[1]) as f:\n",
    "    label_str = f.read()\n",
    "    \n",
    "print(label_str)\n",
    "first_label = Label(label_str)\n",
    "\n",
    "draw = ImageDraw.Draw(im)\n",
    "draw.rectangle(((first_label.x_left, first_label.y_top), (first_label.x_right, first_label.y_bottom)), fill=None)\n",
    "im.show()"
   ]
  },
  {
   "cell_type": "code",
   "execution_count": 5,
   "metadata": {},
   "outputs": [],
   "source": [
    "def show_image(index:int, index_object=None)->None:\n",
    "    im = Image.open(folder_with_images + images_names[index])\n",
    "    draw = ImageDraw.Draw(im)  \n",
    "\n",
    "    with codecs.open(folder_with_labels + labels_names[index]) as f:\n",
    "        labels_str = f.read().strip()\n",
    "\n",
    "    label_str = labels_str.split(\"\\n\")\n",
    "    print(label_str)\n",
    "    if index_object is not None:\n",
    "        label = Label(label_str[index_object])\n",
    "        draw.rectangle(((label.x_left, label.y_top), (label.x_right, label.y_bottom)), fill=None, outline = 'green')\n",
    "    else:\n",
    "        for label_str in label_str:\n",
    "            label = Label(label_str)\n",
    "            draw.rectangle(((label.x_left, label.y_top), (label.x_right, label.y_bottom)), fill=None)\n",
    "\n",
    "    im.show()"
   ]
  },
  {
   "cell_type": "code",
   "execution_count": 6,
   "metadata": {},
   "outputs": [],
   "source": [
    "# look at random image abd label\n",
    "image_num = randint(1, len(images_names)-1)\n",
    "\n",
    "# show_image(image_num)"
   ]
  },
  {
   "cell_type": "markdown",
   "metadata": {},
   "source": [
    " # compute statistics"
   ]
  },
  {
   "cell_type": "code",
   "execution_count": 7,
   "metadata": {},
   "outputs": [],
   "source": [
    "# What do I want to compute?\n",
    "classes = []\n",
    "wight = []\n",
    "hight = []\n",
    "occluded = []\n",
    "name = []\n",
    "index_in_file = []\n",
    "trancated = []"
   ]
  },
  {
   "cell_type": "code",
   "execution_count": 8,
   "metadata": {},
   "outputs": [],
   "source": [
    "for label_name in labels_names:\n",
    "    with codecs.open(folder_with_labels + label_name) as f:\n",
    "        labels_str = f.read()[:-2]\n",
    "    \n",
    "    for i, label_str in enumerate(labels_str.split(\"\\n\")):\n",
    "        label = Label(label_str)\n",
    "        classes.append(label.object_type)\n",
    "        occluded.append(label.occluded)\n",
    "        wight.append(label.x_right-label.x_left)\n",
    "        hight.append(label.y_bottom - label.y_top)\n",
    "        name.append(label_name)\n",
    "        index_in_file.append(i)\n",
    "        trancated.append(label.truncated)"
   ]
  },
  {
   "cell_type": "code",
   "execution_count": 9,
   "metadata": {},
   "outputs": [],
   "source": [
    "stats = pd.DataFrame.from_records(zip(name, index_in_file, classes, wight, hight, occluded, trancated),\n",
    "                               columns=[\"name\", \"index_in_file\", \"classes\", \"wight\", \"hight\", \"occluded\", \"truncated\"])"
   ]
  },
  {
   "cell_type": "code",
   "execution_count": 10,
   "metadata": {},
   "outputs": [
    {
     "data": {
      "text/html": [
       "<div>\n",
       "<style scoped>\n",
       "    .dataframe tbody tr th:only-of-type {\n",
       "        vertical-align: middle;\n",
       "    }\n",
       "\n",
       "    .dataframe tbody tr th {\n",
       "        vertical-align: top;\n",
       "    }\n",
       "\n",
       "    .dataframe thead th {\n",
       "        text-align: right;\n",
       "    }\n",
       "</style>\n",
       "<table border=\"1\" class=\"dataframe\">\n",
       "  <thead>\n",
       "    <tr style=\"text-align: right;\">\n",
       "      <th></th>\n",
       "      <th>name</th>\n",
       "      <th>index_in_file</th>\n",
       "      <th>classes</th>\n",
       "      <th>wight</th>\n",
       "      <th>hight</th>\n",
       "      <th>occluded</th>\n",
       "      <th>truncated</th>\n",
       "    </tr>\n",
       "  </thead>\n",
       "  <tbody>\n",
       "    <tr>\n",
       "      <th>0</th>\n",
       "      <td>000000.txt</td>\n",
       "      <td>0</td>\n",
       "      <td>Pedestrian</td>\n",
       "      <td>98.33</td>\n",
       "      <td>164.92</td>\n",
       "      <td>0</td>\n",
       "      <td>0.0</td>\n",
       "    </tr>\n",
       "    <tr>\n",
       "      <th>1</th>\n",
       "      <td>000001.txt</td>\n",
       "      <td>0</td>\n",
       "      <td>Truck</td>\n",
       "      <td>30.34</td>\n",
       "      <td>32.85</td>\n",
       "      <td>0</td>\n",
       "      <td>0.0</td>\n",
       "    </tr>\n",
       "    <tr>\n",
       "      <th>2</th>\n",
       "      <td>000001.txt</td>\n",
       "      <td>1</td>\n",
       "      <td>Car</td>\n",
       "      <td>36.18</td>\n",
       "      <td>21.58</td>\n",
       "      <td>0</td>\n",
       "      <td>0.0</td>\n",
       "    </tr>\n",
       "    <tr>\n",
       "      <th>3</th>\n",
       "      <td>000001.txt</td>\n",
       "      <td>2</td>\n",
       "      <td>Cyclist</td>\n",
       "      <td>12.38</td>\n",
       "      <td>29.98</td>\n",
       "      <td>3</td>\n",
       "      <td>0.0</td>\n",
       "    </tr>\n",
       "    <tr>\n",
       "      <th>4</th>\n",
       "      <td>000001.txt</td>\n",
       "      <td>3</td>\n",
       "      <td>DontCare</td>\n",
       "      <td>86.72</td>\n",
       "      <td>20.42</td>\n",
       "      <td>-1</td>\n",
       "      <td>-1.0</td>\n",
       "    </tr>\n",
       "  </tbody>\n",
       "</table>\n",
       "</div>"
      ],
      "text/plain": [
       "         name  index_in_file     classes  wight   hight  occluded  truncated\n",
       "0  000000.txt              0  Pedestrian  98.33  164.92         0        0.0\n",
       "1  000001.txt              0       Truck  30.34   32.85         0        0.0\n",
       "2  000001.txt              1         Car  36.18   21.58         0        0.0\n",
       "3  000001.txt              2     Cyclist  12.38   29.98         3        0.0\n",
       "4  000001.txt              3    DontCare  86.72   20.42        -1       -1.0"
      ]
     },
     "execution_count": 10,
     "metadata": {},
     "output_type": "execute_result"
    }
   ],
   "source": [
    "stats.head()"
   ]
  },
  {
   "cell_type": "code",
   "execution_count": 11,
   "metadata": {},
   "outputs": [
    {
     "name": "stdout",
     "output_type": "stream",
     "text": [
      "Car               28742\n",
      "DontCare          11295\n",
      "Pedestrian         4487\n",
      "Van                2914\n",
      "Cyclist            1627\n",
      "Truck              1094\n",
      "Misc                973\n",
      "Tram                511\n",
      "Person_sitting      222\n",
      "Name: classes, dtype: int64\n"
     ]
    }
   ],
   "source": [
    "print(stats.classes.value_counts())"
   ]
  },
  {
   "cell_type": "code",
   "execution_count": 12,
   "metadata": {},
   "outputs": [
    {
     "name": "stdout",
     "output_type": "stream",
     "text": [
      " 0    19181\n",
      "-1    11295\n",
      " 1    11090\n",
      " 2     8101\n",
      " 3     2198\n",
      "Name: occluded, dtype: int64\n"
     ]
    }
   ],
   "source": [
    "print(stats.occluded.value_counts())"
   ]
  },
  {
   "cell_type": "code",
   "execution_count": 13,
   "metadata": {},
   "outputs": [
    {
     "data": {
      "text/html": [
       "<div>\n",
       "<style scoped>\n",
       "    .dataframe tbody tr th:only-of-type {\n",
       "        vertical-align: middle;\n",
       "    }\n",
       "\n",
       "    .dataframe tbody tr th {\n",
       "        vertical-align: top;\n",
       "    }\n",
       "\n",
       "    .dataframe thead th {\n",
       "        text-align: right;\n",
       "    }\n",
       "</style>\n",
       "<table border=\"1\" class=\"dataframe\">\n",
       "  <thead>\n",
       "    <tr style=\"text-align: right;\">\n",
       "      <th></th>\n",
       "      <th>index_in_file</th>\n",
       "      <th>wight</th>\n",
       "      <th>hight</th>\n",
       "      <th>occluded</th>\n",
       "      <th>truncated</th>\n",
       "    </tr>\n",
       "  </thead>\n",
       "  <tbody>\n",
       "    <tr>\n",
       "      <th>count</th>\n",
       "      <td>51865.000000</td>\n",
       "      <td>51865.000000</td>\n",
       "      <td>51865.000000</td>\n",
       "      <td>51865.000000</td>\n",
       "      <td>51865.000000</td>\n",
       "    </tr>\n",
       "    <tr>\n",
       "      <th>mean</th>\n",
       "      <td>4.165834</td>\n",
       "      <td>91.040631</td>\n",
       "      <td>62.994118</td>\n",
       "      <td>0.435573</td>\n",
       "      <td>-0.159973</td>\n",
       "    </tr>\n",
       "    <tr>\n",
       "      <th>std</th>\n",
       "      <td>3.599023</td>\n",
       "      <td>86.601773</td>\n",
       "      <td>55.667743</td>\n",
       "      <td>1.117180</td>\n",
       "      <td>0.485140</td>\n",
       "    </tr>\n",
       "    <tr>\n",
       "      <th>min</th>\n",
       "      <td>0.000000</td>\n",
       "      <td>0.110000</td>\n",
       "      <td>2.880000</td>\n",
       "      <td>-1.000000</td>\n",
       "      <td>-1.000000</td>\n",
       "    </tr>\n",
       "    <tr>\n",
       "      <th>25%</th>\n",
       "      <td>1.000000</td>\n",
       "      <td>33.330000</td>\n",
       "      <td>26.050000</td>\n",
       "      <td>0.000000</td>\n",
       "      <td>0.000000</td>\n",
       "    </tr>\n",
       "    <tr>\n",
       "      <th>50%</th>\n",
       "      <td>3.000000</td>\n",
       "      <td>59.590000</td>\n",
       "      <td>42.510000</td>\n",
       "      <td>0.000000</td>\n",
       "      <td>0.000000</td>\n",
       "    </tr>\n",
       "    <tr>\n",
       "      <th>75%</th>\n",
       "      <td>6.000000</td>\n",
       "      <td>115.510000</td>\n",
       "      <td>78.660000</td>\n",
       "      <td>1.000000</td>\n",
       "      <td>0.000000</td>\n",
       "    </tr>\n",
       "    <tr>\n",
       "      <th>max</th>\n",
       "      <td>23.000000</td>\n",
       "      <td>708.620000</td>\n",
       "      <td>375.000000</td>\n",
       "      <td>3.000000</td>\n",
       "      <td>1.000000</td>\n",
       "    </tr>\n",
       "  </tbody>\n",
       "</table>\n",
       "</div>"
      ],
      "text/plain": [
       "       index_in_file         wight         hight      occluded     truncated\n",
       "count   51865.000000  51865.000000  51865.000000  51865.000000  51865.000000\n",
       "mean        4.165834     91.040631     62.994118      0.435573     -0.159973\n",
       "std         3.599023     86.601773     55.667743      1.117180      0.485140\n",
       "min         0.000000      0.110000      2.880000     -1.000000     -1.000000\n",
       "25%         1.000000     33.330000     26.050000      0.000000      0.000000\n",
       "50%         3.000000     59.590000     42.510000      0.000000      0.000000\n",
       "75%         6.000000    115.510000     78.660000      1.000000      0.000000\n",
       "max        23.000000    708.620000    375.000000      3.000000      1.000000"
      ]
     },
     "execution_count": 13,
     "metadata": {},
     "output_type": "execute_result"
    }
   ],
   "source": [
    "stats.describe()"
   ]
  },
  {
   "cell_type": "code",
   "execution_count": 14,
   "metadata": {},
   "outputs": [
    {
     "data": {
      "image/png": "[encoded data removed]",
      "text/plain": [
       "<Figure size 432x288 with 1 Axes>"
      ]
     },
     "metadata": {
      "needs_background": "light"
     },
     "output_type": "display_data"
    },
    {
     "name": "stdout",
     "output_type": "stream",
     "text": [
      "min wight - 0.10999999999989996, max wight - 708.62\n"
     ]
    },
    {
     "data": {
      "image/png": "[encoded data removed]",
      "text/plain": [
       "<Figure size 432x288 with 1 Axes>"
      ]
     },
     "metadata": {
      "needs_background": "light"
     },
     "output_type": "display_data"
    }
   ],
   "source": [
    "stats.wight.hist(bins=100)\n",
    "plt.show()\n",
    "print(\"min wight - {}, max wight - {}\".format(min(wight), max(wight)))\n",
    "stats.wight.hist(bins=100, range=[0, 50])\n",
    "plt.show()\n"
   ]
  },
  {
   "cell_type": "code",
   "execution_count": 15,
   "metadata": {},
   "outputs": [
    {
     "data": {
      "text/html": [
       "<div>\n",
       "<style scoped>\n",
       "    .dataframe tbody tr th:only-of-type {\n",
       "        vertical-align: middle;\n",
       "    }\n",
       "\n",
       "    .dataframe tbody tr th {\n",
       "        vertical-align: top;\n",
       "    }\n",
       "\n",
       "    .dataframe thead th {\n",
       "        text-align: right;\n",
       "    }\n",
       "</style>\n",
       "<table border=\"1\" class=\"dataframe\">\n",
       "  <thead>\n",
       "    <tr style=\"text-align: right;\">\n",
       "      <th></th>\n",
       "      <th>name</th>\n",
       "      <th>index_in_file</th>\n",
       "      <th>classes</th>\n",
       "      <th>wight</th>\n",
       "      <th>hight</th>\n",
       "      <th>occluded</th>\n",
       "      <th>truncated</th>\n",
       "    </tr>\n",
       "  </thead>\n",
       "  <tbody>\n",
       "    <tr>\n",
       "      <th>4629</th>\n",
       "      <td>000631.txt</td>\n",
       "      <td>2</td>\n",
       "      <td>Car</td>\n",
       "      <td>3.12</td>\n",
       "      <td>158.95</td>\n",
       "      <td>0</td>\n",
       "      <td>1.00</td>\n",
       "    </tr>\n",
       "    <tr>\n",
       "      <th>7938</th>\n",
       "      <td>001106.txt</td>\n",
       "      <td>8</td>\n",
       "      <td>Van</td>\n",
       "      <td>3.49</td>\n",
       "      <td>373.00</td>\n",
       "      <td>0</td>\n",
       "      <td>1.00</td>\n",
       "    </tr>\n",
       "    <tr>\n",
       "      <th>8238</th>\n",
       "      <td>001153.txt</td>\n",
       "      <td>2</td>\n",
       "      <td>Car</td>\n",
       "      <td>0.46</td>\n",
       "      <td>23.24</td>\n",
       "      <td>3</td>\n",
       "      <td>1.00</td>\n",
       "    </tr>\n",
       "    <tr>\n",
       "      <th>12373</th>\n",
       "      <td>001774.txt</td>\n",
       "      <td>5</td>\n",
       "      <td>DontCare</td>\n",
       "      <td>4.82</td>\n",
       "      <td>17.11</td>\n",
       "      <td>-1</td>\n",
       "      <td>-1.00</td>\n",
       "    </tr>\n",
       "    <tr>\n",
       "      <th>12945</th>\n",
       "      <td>001866.txt</td>\n",
       "      <td>0</td>\n",
       "      <td>Truck</td>\n",
       "      <td>2.03</td>\n",
       "      <td>374.00</td>\n",
       "      <td>0</td>\n",
       "      <td>1.00</td>\n",
       "    </tr>\n",
       "    <tr>\n",
       "      <th>15933</th>\n",
       "      <td>002294.txt</td>\n",
       "      <td>0</td>\n",
       "      <td>Truck</td>\n",
       "      <td>1.83</td>\n",
       "      <td>374.00</td>\n",
       "      <td>0</td>\n",
       "      <td>1.00</td>\n",
       "    </tr>\n",
       "    <tr>\n",
       "      <th>17434</th>\n",
       "      <td>002496.txt</td>\n",
       "      <td>6</td>\n",
       "      <td>DontCare</td>\n",
       "      <td>4.82</td>\n",
       "      <td>14.52</td>\n",
       "      <td>-1</td>\n",
       "      <td>-1.00</td>\n",
       "    </tr>\n",
       "    <tr>\n",
       "      <th>17568</th>\n",
       "      <td>002520.txt</td>\n",
       "      <td>1</td>\n",
       "      <td>Truck</td>\n",
       "      <td>4.33</td>\n",
       "      <td>375.00</td>\n",
       "      <td>0</td>\n",
       "      <td>1.00</td>\n",
       "    </tr>\n",
       "    <tr>\n",
       "      <th>18173</th>\n",
       "      <td>002609.txt</td>\n",
       "      <td>2</td>\n",
       "      <td>Person_sitting</td>\n",
       "      <td>3.86</td>\n",
       "      <td>134.60</td>\n",
       "      <td>0</td>\n",
       "      <td>0.97</td>\n",
       "    </tr>\n",
       "    <tr>\n",
       "      <th>20236</th>\n",
       "      <td>002901.txt</td>\n",
       "      <td>5</td>\n",
       "      <td>DontCare</td>\n",
       "      <td>4.82</td>\n",
       "      <td>8.06</td>\n",
       "      <td>-1</td>\n",
       "      <td>-1.00</td>\n",
       "    </tr>\n",
       "    <tr>\n",
       "      <th>23865</th>\n",
       "      <td>003417.txt</td>\n",
       "      <td>7</td>\n",
       "      <td>DontCare</td>\n",
       "      <td>4.82</td>\n",
       "      <td>20.99</td>\n",
       "      <td>-1</td>\n",
       "      <td>-1.00</td>\n",
       "    </tr>\n",
       "    <tr>\n",
       "      <th>24132</th>\n",
       "      <td>003460.txt</td>\n",
       "      <td>2</td>\n",
       "      <td>Car</td>\n",
       "      <td>3.82</td>\n",
       "      <td>194.58</td>\n",
       "      <td>1</td>\n",
       "      <td>1.00</td>\n",
       "    </tr>\n",
       "    <tr>\n",
       "      <th>24272</th>\n",
       "      <td>003478.txt</td>\n",
       "      <td>9</td>\n",
       "      <td>DontCare</td>\n",
       "      <td>4.82</td>\n",
       "      <td>8.70</td>\n",
       "      <td>-1</td>\n",
       "      <td>-1.00</td>\n",
       "    </tr>\n",
       "    <tr>\n",
       "      <th>26009</th>\n",
       "      <td>003709.txt</td>\n",
       "      <td>9</td>\n",
       "      <td>DontCare</td>\n",
       "      <td>3.46</td>\n",
       "      <td>13.03</td>\n",
       "      <td>-1</td>\n",
       "      <td>-1.00</td>\n",
       "    </tr>\n",
       "    <tr>\n",
       "      <th>26921</th>\n",
       "      <td>003840.txt</td>\n",
       "      <td>0</td>\n",
       "      <td>Car</td>\n",
       "      <td>0.65</td>\n",
       "      <td>32.94</td>\n",
       "      <td>0</td>\n",
       "      <td>1.00</td>\n",
       "    </tr>\n",
       "    <tr>\n",
       "      <th>28446</th>\n",
       "      <td>004058.txt</td>\n",
       "      <td>4</td>\n",
       "      <td>DontCare</td>\n",
       "      <td>2.88</td>\n",
       "      <td>2.88</td>\n",
       "      <td>-1</td>\n",
       "      <td>-1.00</td>\n",
       "    </tr>\n",
       "    <tr>\n",
       "      <th>30717</th>\n",
       "      <td>004374.txt</td>\n",
       "      <td>8</td>\n",
       "      <td>DontCare</td>\n",
       "      <td>3.85</td>\n",
       "      <td>8.70</td>\n",
       "      <td>-1</td>\n",
       "      <td>-1.00</td>\n",
       "    </tr>\n",
       "    <tr>\n",
       "      <th>32030</th>\n",
       "      <td>004569.txt</td>\n",
       "      <td>3</td>\n",
       "      <td>Pedestrian</td>\n",
       "      <td>0.11</td>\n",
       "      <td>13.52</td>\n",
       "      <td>0</td>\n",
       "      <td>1.00</td>\n",
       "    </tr>\n",
       "    <tr>\n",
       "      <th>32035</th>\n",
       "      <td>004569.txt</td>\n",
       "      <td>8</td>\n",
       "      <td>DontCare</td>\n",
       "      <td>3.78</td>\n",
       "      <td>14.30</td>\n",
       "      <td>-1</td>\n",
       "      <td>-1.00</td>\n",
       "    </tr>\n",
       "    <tr>\n",
       "      <th>32183</th>\n",
       "      <td>004598.txt</td>\n",
       "      <td>0</td>\n",
       "      <td>Car</td>\n",
       "      <td>3.49</td>\n",
       "      <td>177.43</td>\n",
       "      <td>0</td>\n",
       "      <td>1.00</td>\n",
       "    </tr>\n",
       "    <tr>\n",
       "      <th>32935</th>\n",
       "      <td>004705.txt</td>\n",
       "      <td>4</td>\n",
       "      <td>DontCare</td>\n",
       "      <td>4.98</td>\n",
       "      <td>13.94</td>\n",
       "      <td>-1</td>\n",
       "      <td>-1.00</td>\n",
       "    </tr>\n",
       "    <tr>\n",
       "      <th>33167</th>\n",
       "      <td>004737.txt</td>\n",
       "      <td>3</td>\n",
       "      <td>DontCare</td>\n",
       "      <td>3.85</td>\n",
       "      <td>3.85</td>\n",
       "      <td>-1</td>\n",
       "      <td>-1.00</td>\n",
       "    </tr>\n",
       "    <tr>\n",
       "      <th>33567</th>\n",
       "      <td>004791.txt</td>\n",
       "      <td>2</td>\n",
       "      <td>DontCare</td>\n",
       "      <td>4.82</td>\n",
       "      <td>19.38</td>\n",
       "      <td>-1</td>\n",
       "      <td>-1.00</td>\n",
       "    </tr>\n",
       "    <tr>\n",
       "      <th>33815</th>\n",
       "      <td>004825.txt</td>\n",
       "      <td>9</td>\n",
       "      <td>Van</td>\n",
       "      <td>3.24</td>\n",
       "      <td>373.00</td>\n",
       "      <td>0</td>\n",
       "      <td>1.00</td>\n",
       "    </tr>\n",
       "    <tr>\n",
       "      <th>33950</th>\n",
       "      <td>004842.txt</td>\n",
       "      <td>8</td>\n",
       "      <td>Car</td>\n",
       "      <td>4.23</td>\n",
       "      <td>72.62</td>\n",
       "      <td>1</td>\n",
       "      <td>0.98</td>\n",
       "    </tr>\n",
       "    <tr>\n",
       "      <th>37350</th>\n",
       "      <td>005313.txt</td>\n",
       "      <td>5</td>\n",
       "      <td>DontCare</td>\n",
       "      <td>3.17</td>\n",
       "      <td>15.67</td>\n",
       "      <td>-1</td>\n",
       "      <td>-1.00</td>\n",
       "    </tr>\n",
       "  </tbody>\n",
       "</table>\n",
       "</div>"
      ],
      "text/plain": [
       "             name  index_in_file         classes  wight   hight  occluded  \\\n",
       "4629   000631.txt              2             Car   3.12  158.95         0   \n",
       "7938   001106.txt              8             Van   3.49  373.00         0   \n",
       "8238   001153.txt              2             Car   0.46   23.24         3   \n",
       "12373  001774.txt              5        DontCare   4.82   17.11        -1   \n",
       "12945  001866.txt              0           Truck   2.03  374.00         0   \n",
       "15933  002294.txt              0           Truck   1.83  374.00         0   \n",
       "17434  002496.txt              6        DontCare   4.82   14.52        -1   \n",
       "17568  002520.txt              1           Truck   4.33  375.00         0   \n",
       "18173  002609.txt              2  Person_sitting   3.86  134.60         0   \n",
       "20236  002901.txt              5        DontCare   4.82    8.06        -1   \n",
       "23865  003417.txt              7        DontCare   4.82   20.99        -1   \n",
       "24132  003460.txt              2             Car   3.82  194.58         1   \n",
       "24272  003478.txt              9        DontCare   4.82    8.70        -1   \n",
       "26009  003709.txt              9        DontCare   3.46   13.03        -1   \n",
       "26921  003840.txt              0             Car   0.65   32.94         0   \n",
       "28446  004058.txt              4        DontCare   2.88    2.88        -1   \n",
       "30717  004374.txt              8        DontCare   3.85    8.70        -1   \n",
       "32030  004569.txt              3      Pedestrian   0.11   13.52         0   \n",
       "32035  004569.txt              8        DontCare   3.78   14.30        -1   \n",
       "32183  004598.txt              0             Car   3.49  177.43         0   \n",
       "32935  004705.txt              4        DontCare   4.98   13.94        -1   \n",
       "33167  004737.txt              3        DontCare   3.85    3.85        -1   \n",
       "33567  004791.txt              2        DontCare   4.82   19.38        -1   \n",
       "33815  004825.txt              9             Van   3.24  373.00         0   \n",
       "33950  004842.txt              8             Car   4.23   72.62         1   \n",
       "37350  005313.txt              5        DontCare   3.17   15.67        -1   \n",
       "\n",
       "       truncated  \n",
       "4629        1.00  \n",
       "7938        1.00  \n",
       "8238        1.00  \n",
       "12373      -1.00  \n",
       "12945       1.00  \n",
       "15933       1.00  \n",
       "17434      -1.00  \n",
       "17568       1.00  \n",
       "18173       0.97  \n",
       "20236      -1.00  \n",
       "23865      -1.00  \n",
       "24132       1.00  \n",
       "24272      -1.00  \n",
       "26009      -1.00  \n",
       "26921       1.00  \n",
       "28446      -1.00  \n",
       "30717      -1.00  \n",
       "32030       1.00  \n",
       "32035      -1.00  \n",
       "32183       1.00  \n",
       "32935      -1.00  \n",
       "33167      -1.00  \n",
       "33567      -1.00  \n",
       "33815       1.00  \n",
       "33950       0.98  \n",
       "37350      -1.00  "
      ]
     },
     "execution_count": 15,
     "metadata": {},
     "output_type": "execute_result"
    }
   ],
   "source": [
    "stats[stats.wight<5]"
   ]
  },
  {
   "cell_type": "code",
   "execution_count": 16,
   "metadata": {},
   "outputs": [],
   "source": [
    "# show_image(4569, 3)"
   ]
  },
  {
   "cell_type": "code",
   "execution_count": 17,
   "metadata": {},
   "outputs": [
    {
     "name": "stdout",
     "output_type": "stream",
     "text": [
      "51865 - all objects; 40570 - all objects without DontCare, 38369 - without DontCare and truncated less then 70%\n"
     ]
    }
   ],
   "source": [
    "print(\"{} - all objects; {} - all objects without DontCare, \\\n",
    "{} - without DontCare and truncated less then 70%\".format(len(stats),\n",
    "                                    len(stats[stats.classes != 'DontCare']),\n",
    "                                    len(stats[(stats.classes != 'DontCare') & (stats.truncated < 0.7)])))"
   ]
  },
  {
   "cell_type": "code",
   "execution_count": 18,
   "metadata": {},
   "outputs": [
    {
     "data": {
      "text/html": [
       "<div>\n",
       "<style scoped>\n",
       "    .dataframe tbody tr th:only-of-type {\n",
       "        vertical-align: middle;\n",
       "    }\n",
       "\n",
       "    .dataframe tbody tr th {\n",
       "        vertical-align: top;\n",
       "    }\n",
       "\n",
       "    .dataframe thead th {\n",
       "        text-align: right;\n",
       "    }\n",
       "</style>\n",
       "<table border=\"1\" class=\"dataframe\">\n",
       "  <thead>\n",
       "    <tr style=\"text-align: right;\">\n",
       "      <th></th>\n",
       "      <th>name</th>\n",
       "      <th>index_in_file</th>\n",
       "      <th>classes</th>\n",
       "      <th>wight</th>\n",
       "      <th>hight</th>\n",
       "      <th>occluded</th>\n",
       "      <th>truncated</th>\n",
       "    </tr>\n",
       "  </thead>\n",
       "  <tbody>\n",
       "    <tr>\n",
       "      <th>0</th>\n",
       "      <td>000000.txt</td>\n",
       "      <td>0</td>\n",
       "      <td>Pedestrian</td>\n",
       "      <td>98.33</td>\n",
       "      <td>164.92</td>\n",
       "      <td>0</td>\n",
       "      <td>0.0</td>\n",
       "    </tr>\n",
       "    <tr>\n",
       "      <th>1</th>\n",
       "      <td>000001.txt</td>\n",
       "      <td>0</td>\n",
       "      <td>Truck</td>\n",
       "      <td>30.34</td>\n",
       "      <td>32.85</td>\n",
       "      <td>0</td>\n",
       "      <td>0.0</td>\n",
       "    </tr>\n",
       "    <tr>\n",
       "      <th>2</th>\n",
       "      <td>000001.txt</td>\n",
       "      <td>1</td>\n",
       "      <td>Car</td>\n",
       "      <td>36.18</td>\n",
       "      <td>21.58</td>\n",
       "      <td>0</td>\n",
       "      <td>0.0</td>\n",
       "    </tr>\n",
       "    <tr>\n",
       "      <th>8</th>\n",
       "      <td>000002.txt</td>\n",
       "      <td>0</td>\n",
       "      <td>Misc</td>\n",
       "      <td>190.64</td>\n",
       "      <td>160.60</td>\n",
       "      <td>0</td>\n",
       "      <td>0.0</td>\n",
       "    </tr>\n",
       "    <tr>\n",
       "      <th>9</th>\n",
       "      <td>000002.txt</td>\n",
       "      <td>1</td>\n",
       "      <td>Car</td>\n",
       "      <td>42.68</td>\n",
       "      <td>33.26</td>\n",
       "      <td>0</td>\n",
       "      <td>0.0</td>\n",
       "    </tr>\n",
       "  </tbody>\n",
       "</table>\n",
       "</div>"
      ],
      "text/plain": [
       "         name  index_in_file     classes   wight   hight  occluded  truncated\n",
       "0  000000.txt              0  Pedestrian   98.33  164.92         0        0.0\n",
       "1  000001.txt              0       Truck   30.34   32.85         0        0.0\n",
       "2  000001.txt              1         Car   36.18   21.58         0        0.0\n",
       "8  000002.txt              0        Misc  190.64  160.60         0        0.0\n",
       "9  000002.txt              1         Car   42.68   33.26         0        0.0"
      ]
     },
     "execution_count": 18,
     "metadata": {},
     "output_type": "execute_result"
    }
   ],
   "source": [
    "stats[stats.occluded == 0].head()"
   ]
  },
  {
   "cell_type": "code",
   "execution_count": 19,
   "metadata": {
    "scrolled": true
   },
   "outputs": [],
   "source": [
    "# show_image(98, 1)"
   ]
  },
  {
   "cell_type": "markdown",
   "metadata": {},
   "source": [
    "# for choose window's size"
   ]
  },
  {
   "cell_type": "code",
   "execution_count": 20,
   "metadata": {},
   "outputs": [
    {
     "data": {
      "image/png": "[encoded data removed]",
      "text/plain": [
       "<Figure size 432x288 with 1 Axes>"
      ]
     },
     "metadata": {
      "needs_background": "light"
     },
     "output_type": "display_data"
    }
   ],
   "source": [
    "stats[(stats.classes != 'DontCare') & (stats.truncated < 0.7)].wight.hist(bins=100)\n",
    "plt.show()"
   ]
  },
  {
   "cell_type": "code",
   "execution_count": 21,
   "metadata": {},
   "outputs": [
    {
     "data": {
      "image/png": "[encoded data removed]",
      "text/plain": [
       "<Figure size 432x288 with 1 Axes>"
      ]
     },
     "metadata": {
      "needs_background": "light"
     },
     "output_type": "display_data"
    }
   ],
   "source": [
    "stats[(stats.classes != 'DontCare') & (stats.truncated < 0.7)].hight.hist(bins=100)\n",
    "plt.show()"
   ]
  }
 ],
 "metadata": {
  "kernelspec": {
   "display_name": "tensorflow_august2019",
   "language": "python",
   "name": "myenv"
  },
  "language_info": {
   "codemirror_mode": {
    "name": "ipython",
    "version": 3
   },
   "file_extension": ".py",
   "mimetype": "text/x-python",
   "name": "python",
   "nbconvert_exporter": "python",
   "pygments_lexer": "ipython3",
   "version": "3.7.3"
  }
 },
 "nbformat": 4,
 "nbformat_minor": 1
}
