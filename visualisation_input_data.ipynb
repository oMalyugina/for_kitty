{
 "cells": [
  {
   "cell_type": "code",
   "execution_count": null,
   "metadata": {},
   "outputs": [],
   "source": [
    "import os\n",
    "import codecs\n",
    "from random import randint\n",
    "from collections import Counter\n",
    "import matplotlib.pyplot as plt\n",
    "import pandas as pd\n",
    "from PIL import Image, ImageDraw\n",
    "\n",
    "%matplotlib inline"
   ]
  },
  {
   "cell_type": "code",
   "execution_count": null,
   "metadata": {},
   "outputs": [],
   "source": [
    "# look for images and labels\\\n",
    "# !ls ../../data/images\n",
    "# !ls ../../data/labels/training/label_2/\n",
    "\n",
    "folder_with_images = \"../../data/images/training/image_2/\"\n",
    "images_names = sorted(os.listdir(folder_with_images))\n",
    "print(\"{} files from '{}' to '{}'\".format(len(images_names), images_names[0], images_names[-1]))\n",
    "\n",
    "folder_with_labels = \"../../data/labels/training/label_2/\"\n",
    "labels_names = sorted(os.listdir(folder_with_labels))\n",
    "print(\"{} files from '{}' to '{}'\".format(len(labels_names), labels_names[0], labels_names[-1]))"
   ]
  },
  {
   "cell_type": "markdown",
   "metadata": {},
   "source": [
    "# info about labels\n",
    "\n",
    "values - name - description\n",
    "\n",
    "   1 -   type   -      Describes the type of object: 'Car', 'Van', 'Truck',\n",
    "                     'Pedestrian', 'Person_sitting', 'Cyclist', 'Tram',\n",
    "                     'Misc' or 'DontCare'\n",
    "                     \n",
    "   1  -  truncated -   Float from 0 (non-truncated) to 1 (truncated), where\n",
    "                     truncated refers to the object leaving image boundaries\n",
    "                     \n",
    "   1 -   occluded   -  Integer (0,1,2,3) indicating occlusion state:\n",
    "                     0 = fully visible, 1 = partly occluded\n",
    "                     2 = largely occluded, 3 = unknown\n",
    "                     \n",
    "   1  -  alpha   -     Observation angle of object, ranging [-pi..pi]\n",
    "   \n",
    "   4  -  bbox     -    2D bounding box of object in the image (0-based index):\n",
    "                     contains left, top, right, bottom pixel coordinates\n",
    "                     \n",
    "   3  -  dimensions -  3D object dimensions: height, width, length (in meters)\n",
    "   \n",
    "   3  -  location  -   3D object location x,y,z in camera coordinates (in meters)\n",
    "   \n",
    "   1  -  rotation_y  - Rotation ry around Y-axis in camera coordinates [-pi..pi]\n",
    "   \n",
    "   1  -  score     -   Only for results: Float, indicating confidence in\n",
    "                     detection, needed for p/r curves, higher is better.\n",
    "\n",
    "Questions:\n",
    "1. Why are bbox coordinates float? \n",
    "2. occluded can be -1\n",
    "\n",
    "so this info can be wrong"
   ]
  },
  {
   "cell_type": "code",
   "execution_count": null,
   "metadata": {},
   "outputs": [],
   "source": [
    "class Label:\n",
    "    \n",
    "     def __init__(self, label_str:str):\n",
    "        label_str = label_str.split(\" \")\n",
    "        self.object_type = label_str[0]\n",
    "        self.truncated = float(label_str[1])\n",
    "        self.occluded = int(label_str[2])\n",
    "        self.x_left = int(float(label_str[4]))\n",
    "        self.y_top = int(float(label_str[5]))\n",
    "        self.x_right = int(float(label_str[6]))\n",
    "        self.y_bottom = int(float(label_str[7]))\n",
    "            "
   ]
  },
  {
   "cell_type": "markdown",
   "metadata": {},
   "source": [
    "# visualisation"
   ]
  },
  {
   "cell_type": "code",
   "execution_count": null,
   "metadata": {},
   "outputs": [],
   "source": [
    "# look at first image\n",
    "im = Image.open(folder_with_images + images_names[1])\n",
    "print(im.format, im.size, im.mode)\n",
    "im.show()"
   ]
  },
  {
   "cell_type": "code",
   "execution_count": null,
   "metadata": {},
   "outputs": [],
   "source": [
    "# look at first label\n",
    "with codecs.open(folder_with_labels + labels_names[1]) as f:\n",
    "    label_str = f.read()\n",
    "    \n",
    "print(label_str)\n",
    "first_label = Label(label_str)\n",
    "\n",
    "draw = ImageDraw.Draw(im)\n",
    "draw.rectangle(((first_label.x_left, first_label.y_top), (first_label.x_right, first_label.y_bottom)), fill=None)\n",
    "im.show()"
   ]
  },
  {
   "cell_type": "code",
   "execution_count": null,
   "metadata": {},
   "outputs": [],
   "source": [
    "def show_image(index:int, index_object=None)->None:\n",
    "    im = Image.open(folder_with_images + images_names[index])\n",
    "    draw = ImageDraw.Draw(im)  \n",
    "\n",
    "    with codecs.open(folder_with_labels + labels_names[index]) as f:\n",
    "        labels_str = f.read()[:-2]\n",
    "\n",
    "    label_str = labels_str.split(\"\\n\")\n",
    "    if index_object:\n",
    "        label = Label(label_str[index_object])\n",
    "        draw.rectangle(((label.x_left, label.y_top), (label.x_right, label.y_bottom)), fill=None, outline = 'green')\n",
    "    else:\n",
    "        for label_str in label_str:\n",
    "            label = Label(label_str)\n",
    "            draw.rectangle(((label.x_left, label.y_top), (label.x_right, label.y_bottom)), fill=None)\n",
    "\n",
    "    im.show()"
   ]
  },
  {
   "cell_type": "code",
   "execution_count": null,
   "metadata": {},
   "outputs": [],
   "source": [
    "# look at random image abd label\n",
    "image_num = randint(1, len(images_names)-1)\n",
    "\n",
    "show_image(image_num)"
   ]
  },
  {
   "cell_type": "markdown",
   "metadata": {},
   "source": [
    " # compute statistics"
   ]
  },
  {
   "cell_type": "code",
   "execution_count": null,
   "metadata": {},
   "outputs": [],
   "source": [
    "# What do I want to compute?\n",
    "classes = []\n",
    "wight = []\n",
    "hight = []\n",
    "occluded = []\n",
    "name = []\n",
    "index_in_file = []\n",
    "trancated = []"
   ]
  },
  {
   "cell_type": "code",
   "execution_count": null,
   "metadata": {},
   "outputs": [],
   "source": [
    "for label_name in labels_names:\n",
    "    with codecs.open(folder_with_labels + label_name) as f:\n",
    "        labels_str = f.read()[:-2]\n",
    "    \n",
    "    for i, label_str in enumerate(labels_str.split(\"\\n\")):\n",
    "        label = Label(label_str)\n",
    "        classes.append(label.object_type)\n",
    "        occluded.append(label.occluded)\n",
    "        wight.append(label.x_right-label.x_left)\n",
    "        hight.append(label.y_bottom - label.y_top)\n",
    "        name.append(label_name)\n",
    "        index_in_file.append(i)\n",
    "        trancated.append(label.truncated)"
   ]
  },
  {
   "cell_type": "code",
   "execution_count": null,
   "metadata": {},
   "outputs": [],
   "source": [
    "stats = pd.DataFrame.from_records(zip(name, index_in_file, classes, wight, hight, occluded, trancated),\n",
    "                               columns=[\"name\", \"index_in_file\", \"classes\", \"wight\", \"hight\", \"occluded\", \"truncated\"])"
   ]
  },
  {
   "cell_type": "code",
   "execution_count": null,
   "metadata": {},
   "outputs": [],
   "source": [
    "stats.head()"
   ]
  },
  {
   "cell_type": "code",
   "execution_count": null,
   "metadata": {},
   "outputs": [],
   "source": [
    "print(stats.classes.value_counts())"
   ]
  },
  {
   "cell_type": "code",
   "execution_count": null,
   "metadata": {},
   "outputs": [],
   "source": [
    "print(stats.occluded.value_counts())"
   ]
  },
  {
   "cell_type": "code",
   "execution_count": null,
   "metadata": {},
   "outputs": [],
   "source": [
    "stats[].describe()"
   ]
  },
  {
   "cell_type": "code",
   "execution_count": null,
   "metadata": {},
   "outputs": [],
   "source": [
    "stats.wight.hist(bins=100)\n",
    "plt.show()\n",
    "print(\"min wight - {}, max wight - {}\".format(min(wight), max(wight)))\n",
    "stats.wight.hist(bins=100, range=[0, 50])\n",
    "plt.show()\n"
   ]
  },
  {
   "cell_type": "code",
   "execution_count": null,
   "metadata": {},
   "outputs": [],
   "source": [
    "stats[stats.wight<5]"
   ]
  },
  {
   "cell_type": "code",
   "execution_count": null,
   "metadata": {},
   "outputs": [],
   "source": [
    "show_image(4569, 3)"
   ]
  },
  {
   "cell_type": "code",
   "execution_count": null,
   "metadata": {},
   "outputs": [],
   "source": [
    "print(\"{} - all objects; {} - all objects without DontCare, \\\n",
    "{} - without DontCare and truncated less then 70%\".format(len(stats),\n",
    "                                    len(stats[stats.classes != 'DontCare']),\n",
    "                                    len(stats[(stats.classes != 'DontCare') & (stats.truncated < 0.7)])))"
   ]
  }
 ],
 "metadata": {
  "kernelspec": {
   "display_name": "tensorflow_august2019",
   "language": "python",
   "name": "myenv"
  },
  "language_info": {
   "codemirror_mode": {
    "name": "ipython",
    "version": 3
   },
   "file_extension": ".py",
   "mimetype": "text/x-python",
   "name": "python",
   "nbconvert_exporter": "python",
   "pygments_lexer": "ipython3",
   "version": "3.7.3"
  }
 },
 "nbformat": 4,
 "nbformat_minor": 1
}
